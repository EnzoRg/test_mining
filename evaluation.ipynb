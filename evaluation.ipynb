{
 "cells": [
  {
   "cell_type": "markdown",
   "metadata": {},
   "source": [
    "## Carga de datos"
   ]
  },
  {
   "cell_type": "code",
   "execution_count": 1,
   "metadata": {},
   "outputs": [],
   "source": [
    "import pandas as pd"
   ]
  },
  {
   "cell_type": "code",
   "execution_count": 2,
   "metadata": {},
   "outputs": [],
   "source": [
    "predicted_sql = pd.read_json('results/predicted_sql_zero_shot.json', orient='records')\n",
    "ground_truth = pd.read_json('bird_db/ground_truth.json', orient='records')"
   ]
  },
  {
   "cell_type": "code",
   "execution_count": 3,
   "metadata": {},
   "outputs": [
    {
     "data": {
      "text/html": [
       "<div>\n",
       "<style scoped>\n",
       "    .dataframe tbody tr th:only-of-type {\n",
       "        vertical-align: middle;\n",
       "    }\n",
       "\n",
       "    .dataframe tbody tr th {\n",
       "        vertical-align: top;\n",
       "    }\n",
       "\n",
       "    .dataframe thead th {\n",
       "        text-align: right;\n",
       "    }\n",
       "</style>\n",
       "<table border=\"1\" class=\"dataframe\">\n",
       "  <thead>\n",
       "    <tr style=\"text-align: right;\">\n",
       "      <th></th>\n",
       "      <th>question_id</th>\n",
       "      <th>gemini_1.5_Flash</th>\n",
       "      <th>chatgpt_4mini</th>\n",
       "    </tr>\n",
       "  </thead>\n",
       "  <tbody>\n",
       "    <tr>\n",
       "      <th>0</th>\n",
       "      <td>721</td>\n",
       "      <td>SELECT COUNT(DISTINCT superhero.id) AS num_sup...</td>\n",
       "      <td>SELECT COUNT(*) FROM superhero WHERE eye_colou...</td>\n",
       "    </tr>\n",
       "    <tr>\n",
       "      <th>1</th>\n",
       "      <td>777</td>\n",
       "      <td>SELECT gender.gender FROM superhero JOIN gende...</td>\n",
       "      <td>SELECT g.gender FROM superhero s JOIN gender g...</td>\n",
       "    </tr>\n",
       "    <tr>\n",
       "      <th>2</th>\n",
       "      <td>731</td>\n",
       "      <td>SELECT COUNT(DISTINCT superhero.id) AS num_dc_...</td>\n",
       "      <td>SELECT COUNT(*) FROM superhero WHERE publisher...</td>\n",
       "    </tr>\n",
       "    <tr>\n",
       "      <th>3</th>\n",
       "      <td>759</td>\n",
       "      <td>SELECT colour.colour FROM superhero JOIN colou...</td>\n",
       "      <td>SELECT eye_colour_id FROM superhero ORDER BY w...</td>\n",
       "    </tr>\n",
       "    <tr>\n",
       "      <th>4</th>\n",
       "      <td>837</td>\n",
       "      <td>SELECT hero_id FROM hero_attribute JOIN attrib...</td>\n",
       "      <td>SELECT hero_id FROM hero_attribute ORDER BY at...</td>\n",
       "    </tr>\n",
       "  </tbody>\n",
       "</table>\n",
       "</div>"
      ],
      "text/plain": [
       "   question_id                                   gemini_1.5_Flash  \\\n",
       "0          721  SELECT COUNT(DISTINCT superhero.id) AS num_sup...   \n",
       "1          777  SELECT gender.gender FROM superhero JOIN gende...   \n",
       "2          731  SELECT COUNT(DISTINCT superhero.id) AS num_dc_...   \n",
       "3          759  SELECT colour.colour FROM superhero JOIN colou...   \n",
       "4          837  SELECT hero_id FROM hero_attribute JOIN attrib...   \n",
       "\n",
       "                                       chatgpt_4mini  \n",
       "0  SELECT COUNT(*) FROM superhero WHERE eye_colou...  \n",
       "1  SELECT g.gender FROM superhero s JOIN gender g...  \n",
       "2  SELECT COUNT(*) FROM superhero WHERE publisher...  \n",
       "3  SELECT eye_colour_id FROM superhero ORDER BY w...  \n",
       "4  SELECT hero_id FROM hero_attribute ORDER BY at...  "
      ]
     },
     "execution_count": 3,
     "metadata": {},
     "output_type": "execute_result"
    }
   ],
   "source": [
    "predicted_sql.head()"
   ]
  },
  {
   "cell_type": "code",
   "execution_count": 4,
   "metadata": {},
   "outputs": [
    {
     "data": {
      "text/html": [
       "<div>\n",
       "<style scoped>\n",
       "    .dataframe tbody tr th:only-of-type {\n",
       "        vertical-align: middle;\n",
       "    }\n",
       "\n",
       "    .dataframe tbody tr th {\n",
       "        vertical-align: top;\n",
       "    }\n",
       "\n",
       "    .dataframe thead th {\n",
       "        text-align: right;\n",
       "    }\n",
       "</style>\n",
       "<table border=\"1\" class=\"dataframe\">\n",
       "  <thead>\n",
       "    <tr style=\"text-align: right;\">\n",
       "      <th></th>\n",
       "      <th>question_id</th>\n",
       "      <th>ground_truth</th>\n",
       "      <th>difficulty</th>\n",
       "    </tr>\n",
       "  </thead>\n",
       "  <tbody>\n",
       "    <tr>\n",
       "      <th>0</th>\n",
       "      <td>717</td>\n",
       "      <td>SELECT T3.power_name FROM superhero AS T1 INNE...</td>\n",
       "      <td>simple</td>\n",
       "    </tr>\n",
       "    <tr>\n",
       "      <th>1</th>\n",
       "      <td>718</td>\n",
       "      <td>SELECT COUNT(T1.hero_id) FROM hero_power AS T1...</td>\n",
       "      <td>simple</td>\n",
       "    </tr>\n",
       "    <tr>\n",
       "      <th>2</th>\n",
       "      <td>719</td>\n",
       "      <td>SELECT COUNT(T1.id) FROM superhero AS T1 INNER...</td>\n",
       "      <td>moderate</td>\n",
       "    </tr>\n",
       "    <tr>\n",
       "      <th>3</th>\n",
       "      <td>720</td>\n",
       "      <td>SELECT DISTINCT T1.full_name FROM superhero AS...</td>\n",
       "      <td>simple</td>\n",
       "    </tr>\n",
       "    <tr>\n",
       "      <th>4</th>\n",
       "      <td>721</td>\n",
       "      <td>SELECT COUNT(T1.id) FROM superhero AS T1 INNER...</td>\n",
       "      <td>simple</td>\n",
       "    </tr>\n",
       "  </tbody>\n",
       "</table>\n",
       "</div>"
      ],
      "text/plain": [
       "   question_id                                       ground_truth difficulty\n",
       "0          717  SELECT T3.power_name FROM superhero AS T1 INNE...     simple\n",
       "1          718  SELECT COUNT(T1.hero_id) FROM hero_power AS T1...     simple\n",
       "2          719  SELECT COUNT(T1.id) FROM superhero AS T1 INNER...   moderate\n",
       "3          720  SELECT DISTINCT T1.full_name FROM superhero AS...     simple\n",
       "4          721  SELECT COUNT(T1.id) FROM superhero AS T1 INNER...     simple"
      ]
     },
     "execution_count": 4,
     "metadata": {},
     "output_type": "execute_result"
    }
   ],
   "source": [
    "ground_truth.head()"
   ]
  },
  {
   "cell_type": "code",
   "execution_count": 5,
   "metadata": {},
   "outputs": [],
   "source": [
    "zero_shot = pd.merge(predicted_sql, ground_truth, on='question_id')\n",
    "zero_shot = zero_shot.sort_values(by='question_id').reset_index(drop=True)"
   ]
  },
  {
   "cell_type": "code",
   "execution_count": 6,
   "metadata": {},
   "outputs": [
    {
     "data": {
      "text/html": [
       "<div>\n",
       "<style scoped>\n",
       "    .dataframe tbody tr th:only-of-type {\n",
       "        vertical-align: middle;\n",
       "    }\n",
       "\n",
       "    .dataframe tbody tr th {\n",
       "        vertical-align: top;\n",
       "    }\n",
       "\n",
       "    .dataframe thead th {\n",
       "        text-align: right;\n",
       "    }\n",
       "</style>\n",
       "<table border=\"1\" class=\"dataframe\">\n",
       "  <thead>\n",
       "    <tr style=\"text-align: right;\">\n",
       "      <th></th>\n",
       "      <th>question_id</th>\n",
       "      <th>gemini_1.5_Flash</th>\n",
       "      <th>chatgpt_4mini</th>\n",
       "      <th>ground_truth</th>\n",
       "      <th>difficulty</th>\n",
       "    </tr>\n",
       "  </thead>\n",
       "  <tbody>\n",
       "    <tr>\n",
       "      <th>0</th>\n",
       "      <td>717</td>\n",
       "      <td>SELECT superpower.power_name FROM superhero JO...</td>\n",
       "      <td>SELECT sp.power_name FROM superpower sp JOIN h...</td>\n",
       "      <td>SELECT T3.power_name FROM superhero AS T1 INNE...</td>\n",
       "      <td>simple</td>\n",
       "    </tr>\n",
       "    <tr>\n",
       "      <th>1</th>\n",
       "      <td>718</td>\n",
       "      <td>SELECT COUNT(*) FROM superhero JOIN hero_power...</td>\n",
       "      <td>SELECT COUNT(DISTINCT hp.hero_id) AS superhero...</td>\n",
       "      <td>SELECT COUNT(T1.hero_id) FROM hero_power AS T1...</td>\n",
       "      <td>simple</td>\n",
       "    </tr>\n",
       "    <tr>\n",
       "      <th>2</th>\n",
       "      <td>719</td>\n",
       "      <td>SELECT COUNT(*) FROM superhero s JOIN hero_pow...</td>\n",
       "      <td>SELECT COUNT(DISTINCT s.id) AS super_strength_...</td>\n",
       "      <td>SELECT COUNT(T1.id) FROM superhero AS T1 INNER...</td>\n",
       "      <td>moderate</td>\n",
       "    </tr>\n",
       "    <tr>\n",
       "      <th>3</th>\n",
       "      <td>720</td>\n",
       "      <td>SELECT superhero.full_name FROM superhero JOIN...</td>\n",
       "      <td>SELECT s.full_name FROM superhero s JOIN hero_...</td>\n",
       "      <td>SELECT DISTINCT T1.full_name FROM superhero AS...</td>\n",
       "      <td>simple</td>\n",
       "    </tr>\n",
       "    <tr>\n",
       "      <th>4</th>\n",
       "      <td>721</td>\n",
       "      <td>SELECT COUNT(DISTINCT superhero.id) AS num_sup...</td>\n",
       "      <td>SELECT COUNT(*) FROM superhero WHERE eye_colou...</td>\n",
       "      <td>SELECT COUNT(T1.id) FROM superhero AS T1 INNER...</td>\n",
       "      <td>simple</td>\n",
       "    </tr>\n",
       "  </tbody>\n",
       "</table>\n",
       "</div>"
      ],
      "text/plain": [
       "   question_id                                   gemini_1.5_Flash  \\\n",
       "0          717  SELECT superpower.power_name FROM superhero JO...   \n",
       "1          718  SELECT COUNT(*) FROM superhero JOIN hero_power...   \n",
       "2          719  SELECT COUNT(*) FROM superhero s JOIN hero_pow...   \n",
       "3          720  SELECT superhero.full_name FROM superhero JOIN...   \n",
       "4          721  SELECT COUNT(DISTINCT superhero.id) AS num_sup...   \n",
       "\n",
       "                                       chatgpt_4mini  \\\n",
       "0  SELECT sp.power_name FROM superpower sp JOIN h...   \n",
       "1  SELECT COUNT(DISTINCT hp.hero_id) AS superhero...   \n",
       "2  SELECT COUNT(DISTINCT s.id) AS super_strength_...   \n",
       "3  SELECT s.full_name FROM superhero s JOIN hero_...   \n",
       "4  SELECT COUNT(*) FROM superhero WHERE eye_colou...   \n",
       "\n",
       "                                        ground_truth difficulty  \n",
       "0  SELECT T3.power_name FROM superhero AS T1 INNE...     simple  \n",
       "1  SELECT COUNT(T1.hero_id) FROM hero_power AS T1...     simple  \n",
       "2  SELECT COUNT(T1.id) FROM superhero AS T1 INNER...   moderate  \n",
       "3  SELECT DISTINCT T1.full_name FROM superhero AS...     simple  \n",
       "4  SELECT COUNT(T1.id) FROM superhero AS T1 INNER...     simple  "
      ]
     },
     "execution_count": 6,
     "metadata": {},
     "output_type": "execute_result"
    }
   ],
   "source": [
    "zero_shot.head()"
   ]
  },
  {
   "cell_type": "markdown",
   "metadata": {},
   "source": [
    "## Resultados"
   ]
  },
  {
   "cell_type": "code",
   "execution_count": 55,
   "metadata": {},
   "outputs": [],
   "source": [
    "import tests\n",
    "\n",
    "db_path = 'bird_db/superhero.sqlite'"
   ]
  },
  {
   "cell_type": "markdown",
   "metadata": {},
   "source": [
    "## Zero-Shot"
   ]
  },
  {
   "cell_type": "code",
   "execution_count": 52,
   "metadata": {},
   "outputs": [],
   "source": [
    "predicted_sql = pd.read_json('results/predicted_sql_zero_shot.json', orient='records')\n",
    "ground_truth = pd.read_json('bird_db/ground_truth.json', orient='records')\n",
    "zero_shot = pd.merge(predicted_sql, ground_truth, on='question_id')\n",
    "zero_shot = zero_shot.sort_values(by='question_id').reset_index(drop=True)"
   ]
  },
  {
   "cell_type": "code",
   "execution_count": 53,
   "metadata": {},
   "outputs": [
    {
     "name": "stdout",
     "output_type": "stream",
     "text": [
      "Model: gemini_1.5_Flash\n",
      "-------------------------------\n",
      "EX:\t55.81 %\n",
      "VA:\t97.67 %\n",
      "VES:\t55.21 %\n",
      "EM:\t 6.20 %\n",
      "Model: chatgpt_4mini\n",
      "-------------------------------\n",
      "EX:\t51.16 %\n",
      "VA:\t99.22 %\n",
      "VES:\t51.55 %\n",
      "EM:\t 4.65 %\n"
     ]
    }
   ],
   "source": [
    "metricas_gemini_1 = tests.mostrar_metricas(zero_shot, 'gemini_1.5_Flash', db_path) \n",
    "metricas_chatgpt_1 = tests.mostrar_metricas(zero_shot, 'chatgpt_4mini', db_path) "
   ]
  },
  {
   "cell_type": "markdown",
   "metadata": {},
   "source": [
    "## Zero-Shot with hint"
   ]
  },
  {
   "cell_type": "code",
   "execution_count": 54,
   "metadata": {},
   "outputs": [],
   "source": [
    "predicted_sql = pd.read_json('results/predicted_sql_zero_shot_hint.json', orient='records')\n",
    "ground_truth = pd.read_json('bird_db/ground_truth.json', orient='records')\n",
    "zero_shot_hint = pd.merge(predicted_sql, ground_truth, on='question_id')\n",
    "zero_shot_hint = zero_shot_hint.sort_values(by='question_id').reset_index(drop=True)"
   ]
  },
  {
   "cell_type": "code",
   "execution_count": 27,
   "metadata": {},
   "outputs": [
    {
     "name": "stdout",
     "output_type": "stream",
     "text": [
      "Model: gemini_1.5_Flash\n",
      "-------------------------------\n",
      "EX:\t73.64 %\n",
      "VA:\t90.70 %\n",
      "VES:\t75.84 %\n",
      "EM:\t 4.65 %\n",
      "Model: chatgpt_4mini\n",
      "-------------------------------\n",
      "EX:\t81.40 %\n",
      "VA:\t100.00 %\n",
      "VES:\t83.02 %\n",
      "EM:\t 4.65 %\n"
     ]
    }
   ],
   "source": [
    "metricas_gemini_2 = tests.mostrar_metricas(zero_shot_hint, 'gemini_1.5_Flash', db_path)\n",
    "metricas_chatgpt_2 = tests.mostrar_metricas(zero_shot_hint, 'chatgpt_4mini', db_path) "
   ]
  },
  {
   "cell_type": "markdown",
   "metadata": {},
   "source": [
    "## Few-Shot\n"
   ]
  },
  {
   "cell_type": "code",
   "execution_count": 93,
   "metadata": {},
   "outputs": [],
   "source": [
    "predicted_sql = pd.read_json('results/predicted_sql_few_shot.json', orient='records')\n",
    "ground_truth = pd.read_json('bird_db/ground_truth.json', orient='records')\n",
    "few_shot = pd.merge(predicted_sql, ground_truth, on='question_id')\n",
    "few_shot = few_shot.sort_values(by='question_id').reset_index(drop=True)"
   ]
  },
  {
   "cell_type": "code",
   "execution_count": 94,
   "metadata": {},
   "outputs": [
    {
     "name": "stdout",
     "output_type": "stream",
     "text": [
      "Model: gemini_1.5_Flash\n",
      "-------------------------------\n",
      "EX:\t68.22 %\n",
      "VA:\t97.67 %\n",
      "VES:\t68.10 %\n",
      "EM:\t 5.43 %\n",
      "Model: chatgpt_4mini\n",
      "-------------------------------\n",
      "EX:\t60.47 %\n",
      "VA:\t96.90 %\n",
      "VES:\t59.27 %\n",
      "EM:\t 5.43 %\n"
     ]
    }
   ],
   "source": [
    "metricas_gemini_3 = tests.mostrar_metricas(few_shot, 'gemini_1.5_Flash', db_path) \n",
    "metricas_chatgpt_3 = tests.mostrar_metricas(few_shot, 'chatgpt_4mini', db_path) "
   ]
  },
  {
   "cell_type": "markdown",
   "metadata": {},
   "source": [
    "## Few-Shot with hint"
   ]
  },
  {
   "cell_type": "code",
   "execution_count": 106,
   "metadata": {},
   "outputs": [],
   "source": [
    "predicted_sql = pd.read_json('results/predicted_sql_few_shot_hint.json', orient='records')\n",
    "ground_truth = pd.read_json('bird_db/ground_truth.json', orient='records')\n",
    "few_shot_hint = pd.merge(predicted_sql, ground_truth, on='question_id')\n",
    "few_shot_hint = few_shot_hint.sort_values(by='question_id').reset_index(drop=True)"
   ]
  },
  {
   "cell_type": "code",
   "execution_count": 108,
   "metadata": {},
   "outputs": [
    {
     "name": "stdout",
     "output_type": "stream",
     "text": [
      "Model: chatgpt_4mini\n",
      "-------------------------------\n",
      "EX:\t67.44 %\n",
      "VA:\t99.22 %\n",
      "VES:\t65.84 %\n",
      "EM:\t 3.10 %\n"
     ]
    }
   ],
   "source": [
    "#metricas_gemini_4 = tests.mostrar_metricas(few_shot_hint, 'gemini_1.5_Flash', db_path) \n",
    "metricas_chatgpt_4 = tests.mostrar_metricas(few_shot_hint, 'chatgpt_4mini', db_path) "
   ]
  },
  {
   "cell_type": "markdown",
   "metadata": {},
   "source": [
    "# Gráficos"
   ]
  },
  {
   "cell_type": "code",
   "execution_count": 109,
   "metadata": {},
   "outputs": [],
   "source": [
    "df = pd.DataFrame([{\n",
    "    'EX_by_diff_simple': d['EX_by_diff']['simple'],\n",
    "    'EX_by_diff_moderate': d['EX_by_diff']['moderate'],\n",
    "    'EX_by_diff_challenging': d['EX_by_diff']['challenging'],\n",
    "    'EX_by_diff_total': d['EX_by_diff']['total'],\n",
    "    'VA_by_diff_simple': d['VA_by_diff']['simple'],\n",
    "    'VA_by_diff_moderate': d['VA_by_diff']['moderate'],\n",
    "    'VA_by_diff_challenging': d['VA_by_diff']['challenging'],\n",
    "    'VA_by_diff_total': d['VA_by_diff']['total'],\n",
    "    'VES': d['VES'],\n",
    "    'EM': d['EM']\n",
    "} for d in [metricas_gemini_1, metricas_chatgpt_1, metricas_gemini_2, metricas_chatgpt_2, metricas_gemini_3, metricas_chatgpt_3, metricas_gemini_4, metricas_chatgpt_4]])\n"
   ]
  },
  {
   "cell_type": "code",
   "execution_count": 110,
   "metadata": {},
   "outputs": [],
   "source": [
    "labels = ['gemini_1.5_Flash', 'chatgpt_4mini', 'gemini_1.5_Flash', 'chatgpt_4mini', 'gemini_1.5_Flash', 'chatgpt_4mini', 'gemini_1.5_Flash', 'chatgpt_4mini']"
   ]
  },
  {
   "cell_type": "code",
   "execution_count": 111,
   "metadata": {},
   "outputs": [
    {
     "data": {
      "text/html": [
       "<div>\n",
       "<style scoped>\n",
       "    .dataframe tbody tr th:only-of-type {\n",
       "        vertical-align: middle;\n",
       "    }\n",
       "\n",
       "    .dataframe tbody tr th {\n",
       "        vertical-align: top;\n",
       "    }\n",
       "\n",
       "    .dataframe thead th {\n",
       "        text-align: right;\n",
       "    }\n",
       "</style>\n",
       "<table border=\"1\" class=\"dataframe\">\n",
       "  <thead>\n",
       "    <tr style=\"text-align: right;\">\n",
       "      <th></th>\n",
       "      <th>EX_by_diff_simple</th>\n",
       "      <th>EX_by_diff_moderate</th>\n",
       "      <th>EX_by_diff_challenging</th>\n",
       "      <th>EX_by_diff_total</th>\n",
       "      <th>VA_by_diff_simple</th>\n",
       "      <th>VA_by_diff_moderate</th>\n",
       "      <th>VA_by_diff_challenging</th>\n",
       "      <th>VA_by_diff_total</th>\n",
       "      <th>VES</th>\n",
       "      <th>EM</th>\n",
       "    </tr>\n",
       "  </thead>\n",
       "  <tbody>\n",
       "    <tr>\n",
       "      <th>0</th>\n",
       "      <td>59.259259</td>\n",
       "      <td>63.636364</td>\n",
       "      <td>20.000000</td>\n",
       "      <td>55.813953</td>\n",
       "      <td>98.765432</td>\n",
       "      <td>100.000000</td>\n",
       "      <td>86.666667</td>\n",
       "      <td>97.674419</td>\n",
       "      <td>55.208478</td>\n",
       "      <td>6.201550</td>\n",
       "    </tr>\n",
       "    <tr>\n",
       "      <th>1</th>\n",
       "      <td>54.320988</td>\n",
       "      <td>54.545455</td>\n",
       "      <td>26.666667</td>\n",
       "      <td>51.162791</td>\n",
       "      <td>100.000000</td>\n",
       "      <td>100.000000</td>\n",
       "      <td>93.333333</td>\n",
       "      <td>99.224806</td>\n",
       "      <td>51.553393</td>\n",
       "      <td>4.651163</td>\n",
       "    </tr>\n",
       "    <tr>\n",
       "      <th>2</th>\n",
       "      <td>81.481481</td>\n",
       "      <td>66.666667</td>\n",
       "      <td>46.666667</td>\n",
       "      <td>73.643411</td>\n",
       "      <td>96.296296</td>\n",
       "      <td>81.818182</td>\n",
       "      <td>80.000000</td>\n",
       "      <td>90.697674</td>\n",
       "      <td>75.843960</td>\n",
       "      <td>4.651163</td>\n",
       "    </tr>\n",
       "    <tr>\n",
       "      <th>3</th>\n",
       "      <td>83.950617</td>\n",
       "      <td>75.757576</td>\n",
       "      <td>80.000000</td>\n",
       "      <td>81.395349</td>\n",
       "      <td>100.000000</td>\n",
       "      <td>100.000000</td>\n",
       "      <td>100.000000</td>\n",
       "      <td>100.000000</td>\n",
       "      <td>83.016286</td>\n",
       "      <td>4.651163</td>\n",
       "    </tr>\n",
       "    <tr>\n",
       "      <th>4</th>\n",
       "      <td>75.308642</td>\n",
       "      <td>63.636364</td>\n",
       "      <td>40.000000</td>\n",
       "      <td>68.217054</td>\n",
       "      <td>100.000000</td>\n",
       "      <td>90.909091</td>\n",
       "      <td>100.000000</td>\n",
       "      <td>97.674419</td>\n",
       "      <td>68.104832</td>\n",
       "      <td>5.426357</td>\n",
       "    </tr>\n",
       "    <tr>\n",
       "      <th>5</th>\n",
       "      <td>69.135802</td>\n",
       "      <td>60.606061</td>\n",
       "      <td>13.333333</td>\n",
       "      <td>60.465116</td>\n",
       "      <td>98.765432</td>\n",
       "      <td>93.939394</td>\n",
       "      <td>93.333333</td>\n",
       "      <td>96.899225</td>\n",
       "      <td>59.274840</td>\n",
       "      <td>5.426357</td>\n",
       "    </tr>\n",
       "    <tr>\n",
       "      <th>6</th>\n",
       "      <td>87.654321</td>\n",
       "      <td>78.787879</td>\n",
       "      <td>60.000000</td>\n",
       "      <td>82.170543</td>\n",
       "      <td>100.000000</td>\n",
       "      <td>100.000000</td>\n",
       "      <td>100.000000</td>\n",
       "      <td>100.000000</td>\n",
       "      <td>80.149776</td>\n",
       "      <td>6.976744</td>\n",
       "    </tr>\n",
       "    <tr>\n",
       "      <th>7</th>\n",
       "      <td>77.777778</td>\n",
       "      <td>66.666667</td>\n",
       "      <td>13.333333</td>\n",
       "      <td>67.441860</td>\n",
       "      <td>100.000000</td>\n",
       "      <td>96.969697</td>\n",
       "      <td>100.000000</td>\n",
       "      <td>99.224806</td>\n",
       "      <td>65.836047</td>\n",
       "      <td>3.100775</td>\n",
       "    </tr>\n",
       "  </tbody>\n",
       "</table>\n",
       "</div>"
      ],
      "text/plain": [
       "   EX_by_diff_simple  EX_by_diff_moderate  EX_by_diff_challenging  \\\n",
       "0          59.259259            63.636364               20.000000   \n",
       "1          54.320988            54.545455               26.666667   \n",
       "2          81.481481            66.666667               46.666667   \n",
       "3          83.950617            75.757576               80.000000   \n",
       "4          75.308642            63.636364               40.000000   \n",
       "5          69.135802            60.606061               13.333333   \n",
       "6          87.654321            78.787879               60.000000   \n",
       "7          77.777778            66.666667               13.333333   \n",
       "\n",
       "   EX_by_diff_total  VA_by_diff_simple  VA_by_diff_moderate  \\\n",
       "0         55.813953          98.765432           100.000000   \n",
       "1         51.162791         100.000000           100.000000   \n",
       "2         73.643411          96.296296            81.818182   \n",
       "3         81.395349         100.000000           100.000000   \n",
       "4         68.217054         100.000000            90.909091   \n",
       "5         60.465116          98.765432            93.939394   \n",
       "6         82.170543         100.000000           100.000000   \n",
       "7         67.441860         100.000000            96.969697   \n",
       "\n",
       "   VA_by_diff_challenging  VA_by_diff_total        VES        EM  \n",
       "0               86.666667         97.674419  55.208478  6.201550  \n",
       "1               93.333333         99.224806  51.553393  4.651163  \n",
       "2               80.000000         90.697674  75.843960  4.651163  \n",
       "3              100.000000        100.000000  83.016286  4.651163  \n",
       "4              100.000000         97.674419  68.104832  5.426357  \n",
       "5               93.333333         96.899225  59.274840  5.426357  \n",
       "6              100.000000        100.000000  80.149776  6.976744  \n",
       "7              100.000000         99.224806  65.836047  3.100775  "
      ]
     },
     "execution_count": 111,
     "metadata": {},
     "output_type": "execute_result"
    }
   ],
   "source": [
    "df"
   ]
  },
  {
   "cell_type": "code",
   "execution_count": 119,
   "metadata": {},
   "outputs": [
    {
     "data": {
      "image/png": "[encoded data removed]",
      "text/plain": [
       "<Figure size 1000x500 with 1 Axes>"
      ]
     },
     "metadata": {},
     "output_type": "display_data"
    }
   ],
   "source": [
    "models = ['Gemini 1.5 Flash', 'GPT-4 mini']\n",
    "conditions = ['Zero-shot w/o Hint', 'Zero-shot w/ Hint', 'Few-shot w/o Hint', 'Few-shot w/ Hint']\n",
    "\n",
    "data = np.array([\n",
    "    [df.loc[0, 'EX_by_diff_total'], df.loc[2, 'EX_by_diff_total'], df.loc[4, 'EX_by_diff_total'], df.loc[6, 'EX_by_diff_total']],  # Gemini\n",
    "    [df.loc[1, 'EX_by_diff_total'], df.loc[3, 'EX_by_diff_total'], df.loc[5, 'EX_by_diff_total'], df.loc[7, 'EX_by_diff_total']],  # GPT-4 mini\n",
    "])\n",
    "\n",
    "colors = ['#482173', '#29af7f', '#2e6fbe', '#bddf26']\n",
    "\n",
    "# Configuración del gráfico\n",
    "fig, ax = plt.subplots(figsize=(10, 5))\n",
    "\n",
    "# Ancho de las barras y posiciones\n",
    "bar_width = 0.2  # Hacer las barras más estrechas para que quepan mejor\n",
    "index = np.arange(len(models))  # Indices para las etiquetas en el eje x\n",
    "\n",
    "for i in range(len(conditions)):\n",
    "    ax.bar(index + i * bar_width - bar_width /2, data[:, i], bar_width, label=conditions[i], color=colors[i % len(colors)])  # Utilizar el operador módulo para asegurarse de que el índice esté dentro del rango\n",
    "\n",
    "\n",
    "# Añadir anotaciones de porcentaje encima de las barras\n",
    "#for i in range(len(conditions)):\n",
    "#    for j in range(len(models)):\n",
    "#        ax.annotate(f\"{data[j, i]:.2f}%\", \n",
    "#                    (index[j] + i * bar_width - bar_width / 2, data[j, i] + 1), \n",
    "#                    ha='center', va='bottom', fontsize=9)\n",
    "\n",
    "# Configuración de etiquetas y leyenda\n",
    "ax.set_ylabel('Execution Accuracy (EX) %')\n",
    "#ax.set_title('Execution Accuracy by Model and Condition')\n",
    "#ax.set_xticks(index)  # Centrar etiquetas de modelos\n",
    "ax.set_xticks(index + bar_width) # * (len(conditions) - 1) / 2)  # Centrar etiquetas de modelos\n",
    "ax.set_xticklabels(models)\n",
    "\n",
    "# Añadir leyenda\n",
    "ax.legend(loc='upper left')\n",
    "\n",
    "# Ajustar el límite del eje y\n",
    "ax.set_ylim(0, 100)\n",
    "\n",
    "# Ajustar los márgenes para que el gráfico no se corte\n",
    "plt.tight_layout()\n",
    "\n",
    "plt.savefig('imagen/ex_total.png', dpi=300, bbox_inches='tight')\n",
    "# Mostrar el gráfico\n",
    "plt.show()\n"
   ]
  },
  {
   "cell_type": "code",
   "execution_count": 120,
   "metadata": {},
   "outputs": [
    {
     "data": {
      "image/png": "[encoded data removed]",
      "text/plain": [
       "<Figure size 1000x500 with 1 Axes>"
      ]
     },
     "metadata": {},
     "output_type": "display_data"
    }
   ],
   "source": [
    "models = ['Gemini 1.5 Flash', 'GPT-4 mini']\n",
    "conditions = ['Zero-shot w/o Hint', 'Zero-shot w/ Hint', 'Few-shot w/o Hint', 'Few-shot w/ Hint']\n",
    "\n",
    "data = np.array([\n",
    "    [df.loc[0, 'VES'], df.loc[2, 'VES'], df.loc[4, 'VES'], df.loc[6, 'VES']],  # Gemini\n",
    "    [df.loc[1, 'VES'], df.loc[3, 'VES'], df.loc[5, 'VES'], df.loc[7, 'VES']],  # GPT-4 mini\n",
    "])\n",
    "\n",
    "colors = ['#482173', '#29af7f', '#2e6fbe', '#bddf26']\n",
    "\n",
    "# Configuración del gráfico\n",
    "fig, ax = plt.subplots(figsize=(10, 5))\n",
    "\n",
    "# Ancho de las barras y posiciones\n",
    "bar_width = 0.2  # Hacer las barras más estrechas para que quepan mejor\n",
    "index = np.arange(len(models))  # Indices para las etiquetas en el eje x\n",
    "\n",
    "for i in range(len(conditions)):\n",
    "    ax.bar(index + i * bar_width - bar_width /2, data[:, i], bar_width, label=conditions[i], color=colors[i % len(colors)])  # Utilizar el operador módulo para asegurarse de que el índice esté dentro del rango\n",
    "\n",
    "\n",
    "# Añadir anotaciones de porcentaje encima de las barras\n",
    "#for i in range(len(conditions)):\n",
    "#    for j in range(len(models)):\n",
    "#        ax.annotate(f\"{data[j, i]:.2f}%\", \n",
    "#                    (index[j] + i * bar_width - bar_width / 2, data[j, i] + 1), \n",
    "#                    ha='center', va='bottom', fontsize=9)\n",
    "\n",
    "# Configuración de etiquetas y leyenda\n",
    "ax.set_ylabel('Valid Efficiency Score (VES) %')\n",
    "#ax.set_title('Execution Accuracy by Model and Condition')\n",
    "#ax.set_xticks(index)  # Centrar etiquetas de modelos\n",
    "ax.set_xticks(index + bar_width) # * (len(conditions) - 1) / 2)  # Centrar etiquetas de modelos\n",
    "ax.set_xticklabels(models)\n",
    "\n",
    "# Añadir leyenda\n",
    "ax.legend(loc='upper left')\n",
    "\n",
    "# Ajustar el límite del eje y\n",
    "ax.set_ylim(0, 100)\n",
    "\n",
    "# Ajustar los márgenes para que el gráfico no se corte\n",
    "plt.tight_layout()\n",
    "\n",
    "plt.savefig('imagen/ves_total.png', dpi=300, bbox_inches='tight')\n",
    "# Mostrar el gráfico\n",
    "plt.show()"
   ]
  }
 ],
 "metadata": {
  "kernelspec": {
   "display_name": "env_1",
   "language": "python",
   "name": "python3"
  },
  "language_info": {
   "codemirror_mode": {
    "name": "ipython",
    "version": 3
   },
   "file_extension": ".py",
   "mimetype": "text/x-python",
   "name": "python",
   "nbconvert_exporter": "python",
   "pygments_lexer": "ipython3",
   "version": "3.11.4"
  }
 },
 "nbformat": 4,
 "nbformat_minor": 2
}
